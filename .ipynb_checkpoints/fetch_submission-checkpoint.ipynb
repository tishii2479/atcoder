{
 "cells": [
  {
   "cell_type": "code",
   "execution_count": 2,
   "metadata": {},
   "outputs": [],
   "source": [
    "import requests\n",
    "import json"
   ]
  },
  {
   "cell_type": "code",
   "execution_count": 3,
   "metadata": {},
   "outputs": [],
   "source": [
    "userID = \"tishii24\"\n",
    "api_path = \"https://kenkoooo.com/atcoder/atcoder-api/results?user=\""
   ]
  },
  {
   "cell_type": "code",
   "execution_count": 4,
   "metadata": {},
   "outputs": [],
   "source": [
    "# APIを用いた提出データの取得\n",
    "def getSubmissionData(userID):\n",
    "    api_url = api_path + userID\n",
    "    response = requests.get(api_url)\n",
    "    jsonData = response.json()\n",
    "    return jsonData"
   ]
  },
  {
   "cell_type": "code",
   "execution_count": 5,
   "metadata": {},
   "outputs": [
    {
     "data": {
      "text/plain": [
       "[{'id': 13860554,\n",
       "  'epoch_second': 1590930420,\n",
       "  'problem_id': 'abc169_b',\n",
       "  'contest_id': 'abc169',\n",
       "  'user_id': 'tishii24',\n",
       "  'language': 'C++ (GCC 9.2.1)',\n",
       "  'point': 0.0,\n",
       "  'length': 722,\n",
       "  'result': 'RE',\n",
       "  'execution_time': 126},\n",
       " {'id': 18122209,\n",
       "  'epoch_second': 1605441827,\n",
       "  'problem_id': 'abc183_b',\n",
       "  'contest_id': 'abc183',\n",
       "  'user_id': 'tishii24',\n",
       "  'language': 'C++ (Clang 10.0.0)',\n",
       "  'point': 200.0,\n",
       "  'length': 611,\n",
       "  'result': 'AC',\n",
       "  'execution_time': 10}]"
      ]
     },
     "execution_count": 5,
     "metadata": {},
     "output_type": "execute_result"
    }
   ],
   "source": [
    "submissions = getSubmissionData(userID)\n",
    "submissions[:2]"
   ]
  },
  {
   "cell_type": "code",
   "execution_count": 6,
   "metadata": {},
   "outputs": [],
   "source": [
    "# 各問題において最も新しいAC提出のみを取得する\n",
    "# 各コンテストごとにまとめて返す\n",
    "def collectNewestAcceptedSubmissions(submissions):\n",
    "    sortedData = sorted(submissions, key=lambda x: x['id'])  # IDで昇順ソートすると古い順になる\n",
    "    submits = {} # 各問題ごとに最新の提出に更新する\n",
    "    for data in sortedData:\n",
    "        if data[\"result\"] != \"AC\": # ACだった提出だけ対象\n",
    "            continue\n",
    "        submits[data[\"problem_id\"]] = data\n",
    "    \n",
    "    result = {} # コンテストごとにまとめる\n",
    "    for sub in submits.values():\n",
    "        if not sub[\"contest_id\"] in result:\n",
    "            result[sub[\"contest_id\"]] = []\n",
    "        result[sub[\"contest_id\"]].append(sub)\n",
    "    return result"
   ]
  },
  {
   "cell_type": "code",
   "execution_count": 7,
   "metadata": {},
   "outputs": [
    {
     "data": {
      "text/plain": [
       "{'id': 13444356,\n",
       " 'epoch_second': 1590031432,\n",
       " 'problem_id': 'abc168_a',\n",
       " 'contest_id': 'abc168',\n",
       " 'user_id': 'tishii24',\n",
       " 'language': 'C++ (GCC 9.2.1)',\n",
       " 'point': 100.0,\n",
       " 'length': 353,\n",
       " 'result': 'AC',\n",
       " 'execution_time': 3}"
      ]
     },
     "execution_count": 7,
     "metadata": {},
     "output_type": "execute_result"
    }
   ],
   "source": [
    "newestSubmits =  collectNewestAcceptedSubmissions(submissions)\n",
    "newestSubmits[\"abc168\"][0]"
   ]
  },
  {
   "cell_type": "code",
   "execution_count": 8,
   "metadata": {},
   "outputs": [],
   "source": [
    "import os"
   ]
  },
  {
   "cell_type": "code",
   "execution_count": 9,
   "metadata": {},
   "outputs": [
    {
     "ename": "FileExistsError",
     "evalue": "[Errno 17] File exists: 'submissions/abc168'",
     "output_type": "error",
     "traceback": [
      "\u001b[0;31m---------------------------------------------------------------------------\u001b[0m",
      "\u001b[0;31mFileExistsError\u001b[0m                           Traceback (most recent call last)",
      "\u001b[0;32m<ipython-input-9-4c981fa18a3f>\u001b[0m in \u001b[0;36m<module>\u001b[0;34m()\u001b[0m\n\u001b[1;32m      3\u001b[0m \u001b[0;32mfor\u001b[0m \u001b[0mcontestName\u001b[0m \u001b[0;32min\u001b[0m \u001b[0mnewestSubmits\u001b[0m\u001b[0;34m:\u001b[0m\u001b[0;34m\u001b[0m\u001b[0m\n\u001b[1;32m      4\u001b[0m     \u001b[0mpath\u001b[0m \u001b[0;34m=\u001b[0m \u001b[0mroot\u001b[0m \u001b[0;34m+\u001b[0m \u001b[0mcontestName\u001b[0m\u001b[0;34m\u001b[0m\u001b[0m\n\u001b[0;32m----> 5\u001b[0;31m     \u001b[0mos\u001b[0m\u001b[0;34m.\u001b[0m\u001b[0mmakedirs\u001b[0m\u001b[0;34m(\u001b[0m\u001b[0mpath\u001b[0m\u001b[0;34m)\u001b[0m\u001b[0;34m\u001b[0m\u001b[0m\n\u001b[0m",
      "\u001b[0;32m~/.pyenv/versions/anaconda3-5.3.1/lib/python3.7/os.py\u001b[0m in \u001b[0;36mmakedirs\u001b[0;34m(name, mode, exist_ok)\u001b[0m\n\u001b[1;32m    219\u001b[0m             \u001b[0;32mreturn\u001b[0m\u001b[0;34m\u001b[0m\u001b[0m\n\u001b[1;32m    220\u001b[0m     \u001b[0;32mtry\u001b[0m\u001b[0;34m:\u001b[0m\u001b[0;34m\u001b[0m\u001b[0m\n\u001b[0;32m--> 221\u001b[0;31m         \u001b[0mmkdir\u001b[0m\u001b[0;34m(\u001b[0m\u001b[0mname\u001b[0m\u001b[0;34m,\u001b[0m \u001b[0mmode\u001b[0m\u001b[0;34m)\u001b[0m\u001b[0;34m\u001b[0m\u001b[0m\n\u001b[0m\u001b[1;32m    222\u001b[0m     \u001b[0;32mexcept\u001b[0m \u001b[0mOSError\u001b[0m\u001b[0;34m:\u001b[0m\u001b[0;34m\u001b[0m\u001b[0m\n\u001b[1;32m    223\u001b[0m         \u001b[0;31m# Cannot rely on checking for EEXIST, since the operating system\u001b[0m\u001b[0;34m\u001b[0m\u001b[0;34m\u001b[0m\u001b[0m\n",
      "\u001b[0;31mFileExistsError\u001b[0m: [Errno 17] File exists: 'submissions/abc168'"
     ]
    }
   ],
   "source": [
    "root = \"submissions/\"\n",
    "\n",
    "for contestName in newestSubmits:\n",
    "    path = root + contestName\n",
    "    os.makedirs(path, exist_ok=True)"
   ]
  },
  {
   "cell_type": "code",
   "execution_count": 18,
   "metadata": {},
   "outputs": [],
   "source": [
    "import chromedriver_binary\n",
    "from selenium import webdriver\n",
    "from time import sleep\n",
    "import subprocess\n",
    "# > subprocess.call( [\"ls\", \"-l\"] )\n",
    "\n",
    "driver = webdriver.Chrome()\n",
    "\n",
    "for submissions in newestSubmits.values():\n",
    "    for sub in submissions:\n",
    "        sub_url = \"https://atcoder.jp/contests/\" + sub[\"contest_id\"] + \"/submissions/\" + str(sub[\"id\"])\n",
    "        driver.get(sub_url)\n",
    "        code = driver.find_element_by_id(\"submission-code\")\n",
    "        path = root + sub[\"contest_id\"] + \"/\" + sub[\"problem_id\"][-1]\n",
    "        if \"C++\" in sub[\"language\"]:\n",
    "            path += \".cpp\"\n",
    "        elif \"Python\" in sub[\"language\"]:\n",
    "            path += \".py\"\n",
    "        with open(path, 'w') as f:\n",
    "            f.write(code.text)\n",
    "        subprocess.call([\"clang-format\", \"-i\",  \"-style=file\", path])\n",
    "        sleep(3)\n",
    "        break\n",
    "    break\n",
    "driver.quit()"
   ]
  },
  {
   "cell_type": "code",
   "execution_count": null,
   "metadata": {},
   "outputs": [],
   "source": []
  },
  {
   "cell_type": "code",
   "execution_count": null,
   "metadata": {},
   "outputs": [],
   "source": []
  }
 ],
 "metadata": {
  "kernelspec": {
   "display_name": "Python 3",
   "language": "python",
   "name": "python3"
  },
  "language_info": {
   "codemirror_mode": {
    "name": "ipython",
    "version": 3
   },
   "file_extension": ".py",
   "mimetype": "text/x-python",
   "name": "python",
   "nbconvert_exporter": "python",
   "pygments_lexer": "ipython3",
   "version": "3.7.0"
  }
 },
 "nbformat": 4,
 "nbformat_minor": 2
}
