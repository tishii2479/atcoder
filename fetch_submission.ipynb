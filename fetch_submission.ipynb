{
 "cells": [
  {
   "cell_type": "code",
   "execution_count": 1,
   "metadata": {},
   "outputs": [],
   "source": [
    "import requests\n",
    "import json"
   ]
  },
  {
   "cell_type": "code",
   "execution_count": 2,
   "metadata": {},
   "outputs": [],
   "source": [
    "userID = \"tishii24\"\n",
    "api_path = \"https://kenkoooo.com/atcoder/atcoder-api/results?user=\""
   ]
  },
  {
   "cell_type": "code",
   "execution_count": 3,
   "metadata": {},
   "outputs": [],
   "source": [
    "# APIを用いた提出データの取得\n",
    "def getSubmissionData(userID):\n",
    "    api_url = api_path + userID\n",
    "    response = requests.get(api_url)\n",
    "    jsonData = response.json()\n",
    "    return jsonData"
   ]
  },
  {
   "cell_type": "code",
   "execution_count": 4,
   "metadata": {},
   "outputs": [
    {
     "data": {
      "text/plain": [
       "[{'id': 13860554,\n",
       "  'epoch_second': 1590930420,\n",
       "  'problem_id': 'abc169_b',\n",
       "  'contest_id': 'abc169',\n",
       "  'user_id': 'tishii24',\n",
       "  'language': 'C++ (GCC 9.2.1)',\n",
       "  'point': 0.0,\n",
       "  'length': 722,\n",
       "  'result': 'RE',\n",
       "  'execution_time': 126},\n",
       " {'id': 18122209,\n",
       "  'epoch_second': 1605441827,\n",
       "  'problem_id': 'abc183_b',\n",
       "  'contest_id': 'abc183',\n",
       "  'user_id': 'tishii24',\n",
       "  'language': 'C++ (Clang 10.0.0)',\n",
       "  'point': 200.0,\n",
       "  'length': 611,\n",
       "  'result': 'AC',\n",
       "  'execution_time': 10}]"
      ]
     },
     "execution_count": 4,
     "metadata": {},
     "output_type": "execute_result"
    }
   ],
   "source": [
    "submissions = getSubmissionData(userID)\n",
    "submissions[:2]"
   ]
  },
  {
   "cell_type": "code",
   "execution_count": 5,
   "metadata": {},
   "outputs": [],
   "source": [
    "# 各問題において最も新しいAC提出のみを取得する\n",
    "# 各コンテストごとにまとめて返す\n",
    "def collectNewestAcceptedSubmissions(submissions):\n",
    "    sortedData = sorted(submissions, key=lambda x: x['id'])  # IDで昇順ソートすると古い順になる\n",
    "    submits = {} # 各問題ごとに最新の提出に更新する\n",
    "    for data in sortedData:\n",
    "        if data[\"result\"] != \"AC\": # ACだった提出だけ対象\n",
    "            continue\n",
    "        submits[data[\"problem_id\"]] = data\n",
    "    \n",
    "    result = {} # コンテストごとにまとめる\n",
    "    for sub in submits.values():\n",
    "        if not sub[\"contest_id\"] in result:\n",
    "            result[sub[\"contest_id\"]] = []\n",
    "        result[sub[\"contest_id\"]].append(sub)\n",
    "    return result"
   ]
  },
  {
   "cell_type": "code",
   "execution_count": 6,
   "metadata": {},
   "outputs": [
    {
     "data": {
      "text/plain": [
       "{'id': 13444356,\n",
       " 'epoch_second': 1590031432,\n",
       " 'problem_id': 'abc168_a',\n",
       " 'contest_id': 'abc168',\n",
       " 'user_id': 'tishii24',\n",
       " 'language': 'C++ (GCC 9.2.1)',\n",
       " 'point': 100.0,\n",
       " 'length': 353,\n",
       " 'result': 'AC',\n",
       " 'execution_time': 3}"
      ]
     },
     "execution_count": 6,
     "metadata": {},
     "output_type": "execute_result"
    }
   ],
   "source": [
    "newestSubmits =  collectNewestAcceptedSubmissions(submissions)\n",
    "newestSubmits[\"abc168\"][0]"
   ]
  },
  {
   "cell_type": "code",
   "execution_count": 7,
   "metadata": {},
   "outputs": [],
   "source": [
    "import os"
   ]
  },
  {
   "cell_type": "code",
   "execution_count": 8,
   "metadata": {},
   "outputs": [],
   "source": [
    "root = \"submissions/\"\n",
    "\n",
    "for contestName in newestSubmits:\n",
    "    path = root + contestName\n",
    "    os.makedirs(path, exist_ok=True)"
   ]
  },
  {
   "cell_type": "code",
   "execution_count": 9,
   "metadata": {},
   "outputs": [],
   "source": [
    "import chromedriver_binary\n",
    "from selenium import webdriver\n",
    "from time import sleep\n",
    "import subprocess\n",
    "\n",
    "driver = webdriver.Chrome()\n",
    "\n",
    "# 追加したファイルの数を増やす\n",
    "add_cnt = 0\n",
    "\n",
    "for submissions in newestSubmits.values():\n",
    "    for sub in submissions:\n",
    "        # 問題番号の取得\n",
    "        problem_num = sub[\"problem_id\"][-1]\n",
    "        \n",
    "        # 古い問題の場合には数字になっているので、アルファベットに戻す\n",
    "        if problem_num.isdigit():\n",
    "            problem_num = chr(int(problem_num)+ord('a')-1)\n",
    "        \n",
    "        # 作成するファイルへのパス\n",
    "        path = root + sub[\"contest_id\"] + \"/\" + problem_num\n",
    "        # 拡張子の設定（C++, Pythonのみ）\n",
    "        if \"C++\" in sub[\"language\"]:\n",
    "            path += \".cpp\"\n",
    "        elif \"Python\" in sub[\"language\"]:\n",
    "            path += \".py\"\n",
    "        \n",
    "        # 既に提出コードがある場合は取得せず、次の問題の提出を探す\n",
    "        if os.path.isfile(path): continue\n",
    "        \n",
    "        # 提出ページへアクセス\n",
    "        sub_url = \"https://atcoder.jp/contests/\" + sub[\"contest_id\"] + \"/submissions/\" + str(sub[\"id\"])\n",
    "        driver.get(sub_url)\n",
    "        \n",
    "        # 提出コードの取得\n",
    "        code = driver.find_element_by_id(\"submission-code\") \n",
    "            \n",
    "        # 書き込み\n",
    "        with open(path, 'w') as f:\n",
    "            f.write(code.text)\n",
    "        \n",
    "        # C++の場合にはclang-formatを使ってフォーマットする\n",
    "        if \"C++\" in sub[\"language\"]:\n",
    "            subprocess.call([\"clang-format\", \"-i\",  \"-style=file\", path])\n",
    "        \n",
    "        # 追加したファイルの数を増やす\n",
    "        add_cnt += 1\n",
    "            \n",
    "        # アクセス負荷軽減のために時間をおく(3秒)\n",
    "        sleep(3)\n",
    "        \n",
    "driver.quit()"
   ]
  },
  {
   "cell_type": "code",
   "execution_count": 10,
   "metadata": {
    "scrolled": true
   },
   "outputs": [
    {
     "name": "stdout",
     "output_type": "stream",
     "text": [
      "No added submissions, end process\n"
     ]
    }
   ],
   "source": [
    "if add_cnt == 0:\n",
    "    # 何も追加していなければGitにアクセスしない\n",
    "    print(\"No added submissions, end process\")\n",
    "else:\n",
    "    # GitHubにプッシュ\n",
    "    import git\n",
    "    import datetime\n",
    "\n",
    "    dt_now = datetime.datetime.now()\n",
    "    repo_url = \"https://github.com/tishii2479/atcoder.git\"\n",
    "    repo = git.Repo()\n",
    "    repo.git.add(\"submissions/*\")\n",
    "    repo.git.commit(\"*\", message=\"add submission: \" + dt_now.strftime('%Y/%m/%d %H:%M:%S'))\n",
    "    repo.git.push(\"origin\", \"main\")\n",
    "\n",
    "    print(f\"Finished process, added {add_cnt} files\")"
   ]
  }
 ],
 "metadata": {
  "kernelspec": {
   "display_name": "Python 3",
   "language": "python",
   "name": "python3"
  },
  "language_info": {
   "codemirror_mode": {
    "name": "ipython",
    "version": 3
   },
   "file_extension": ".py",
   "mimetype": "text/x-python",
   "name": "python",
   "nbconvert_exporter": "python",
   "pygments_lexer": "ipython3",
   "version": "3.7.0"
  }
 },
 "nbformat": 4,
 "nbformat_minor": 2
}
